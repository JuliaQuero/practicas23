{
 "cells": [
  {
   "cell_type": "code",
   "execution_count": 1,
   "metadata": {
    "id": "8f83a7ae"
   },
   "outputs": [],
   "source": [
    "# Librerías necesarias\n",
    "\n",
    "import tensorflow as tf\n",
    "import numpy as np\n",
    "from tensorflow.keras.preprocessing.image import ImageDataGenerator\n",
    "from tensorflow.keras.models import Sequential, Model\n",
    "from tensorflow.keras.layers import Dense, GlobalAveragePooling2D\n",
    "from tensorflow.keras.applications.inception_v3 import InceptionV3, preprocess_input\n",
    "\n",
    "from glob import glob\n",
    "from tensorflow.keras.applications import InceptionV3, MobileNetV2, ResNet152, VGG16, VGG19\n",
    "import sklearn.metrics as sk\n",
    "\n",
    "# Para descargar en Descargas los archivos mediante files.download('/content/blablabla.txt')\n",
    "from google.colab import files\n",
    "\n",
    "# Parámetros de preprocesamiento de imágenes\n",
    "\n",
    "image_size = (224, 224)  # Tamaño deseado de las imágenes\n",
    "batch_size = 32          # Tamaño del lote para el entrenamiento"
   ]
  },
  {
   "cell_type": "code",
   "execution_count": 2,
   "metadata": {
    "colab": {
     "base_uri": "https://localhost:8080/"
    },
    "id": "BN-HdkBPNL0r",
    "outputId": "6ffb5c5e-11d0-4502-8265-ec24a822b505"
   },
   "outputs": [
    {
     "name": "stdout",
     "output_type": "stream",
     "text": [
      "Cloning into 'img_dataset_parte1'...\n",
      "remote: Enumerating objects: 95877, done.\u001b[K\n",
      "remote: Counting objects: 100% (30469/30469), done.\u001b[K\n",
      "remote: Compressing objects: 100% (29763/29763), done.\u001b[K\n",
      "remote: Total 95877 (delta 860), reused 30315 (delta 706), pack-reused 65408\u001b[K\n",
      "Receiving objects: 100% (95877/95877), 135.58 MiB | 19.04 MiB/s, done.\n",
      "Resolving deltas: 100% (1137/1137), done.\n",
      "Updating files: 100% (327920/327920), done.\n"
     ]
    }
   ],
   "source": [
    "!git clone https://github.com/JuliaQuero/img_dataset_parte1"
   ]
  },
  {
   "cell_type": "code",
   "execution_count": null,
   "metadata": {
    "colab": {
     "base_uri": "https://localhost:8080/"
    },
    "id": "bd011912",
    "outputId": "d426f942-6a7f-40cb-dd68-006471f7964e"
   },
   "outputs": [
    {
     "name": "stdout",
     "output_type": "stream",
     "text": [
      "Found 13114 images belonging to 5 classes.\n",
      "Found 3281 images belonging to 5 classes.\n",
      "Downloading data from https://storage.googleapis.com/tensorflow/keras-applications/inception_v3/inception_v3_weights_tf_dim_ordering_tf_kernels_notop.h5\n",
      "87910968/87910968 [==============================] - 0s 0us/step\n",
      "Epoch 1/10\n",
      "142/410 [=========>....................] - ETA: 15:43 - loss: 1.0079 - accuracy: 0.6673"
     ]
    }
   ],
   "source": [
    "#for folder in [6,7,9,10,11,12,13,14,15,16,17,18,19,20,21]:\n",
    "for folder in range(22,29,1):\n",
    "#for folder in range(37,50,1):\n",
    "  # Rutas de las imágenes de entrenamiento y prueba\n",
    "  train_dir = 'img_dataset_parte1/V' + str(folder) + '/train'\n",
    "  test_dir = 'img_dataset_parte1/V' + str(folder) + '/val'\n",
    "  # Para obtener las clases de salida\n",
    "  classes = glob('img_dataset_parte1/V' + str(folder) + '/train/*')\n",
    "  num_classes = len(classes)\n",
    "\n",
    "  # Generadores de datos para cargar y preprocesar las imágenes de entrenamiento y prueba\n",
    "  train_datagen = ImageDataGenerator(preprocessing_function=preprocess_input)  # Normaliza los valores de píxeles entre 0 y 1\n",
    "  test_datagen = ImageDataGenerator(preprocessing_function=preprocess_input)\n",
    "\n",
    "  train_generator = train_datagen.flow_from_directory(\n",
    "    train_dir,\n",
    "    target_size=image_size,\n",
    "    batch_size=batch_size,\n",
    "    class_mode='categorical')\n",
    "\n",
    "  test_generator = test_datagen.flow_from_directory(\n",
    "    test_dir,\n",
    "    target_size=image_size,\n",
    "    batch_size=batch_size,\n",
    "    class_mode='categorical',\n",
    "    shuffle=False)\n",
    "\n",
    "  # Creo txt\n",
    "  out = open('V'+str(folder)+'InceptionV3.txt','w')\n",
    "\n",
    "  # Definimos el modelo\n",
    "  base_model = InceptionV3(include_top=False, weights='imagenet', input_tensor = None, input_shape=(224, 224, 3))\n",
    "  # Transfer Learning\n",
    "  # Freeze convolutinal layers\n",
    "  base_model.trainable=False\n",
    "  x = base_model.output\n",
    "  x = GlobalAveragePooling2D()(x)\n",
    "\n",
    "  top = Dense(units=num_classes, activation='softmax')(x)\n",
    "  model = Model(inputs=base_model.input, outputs=top)\n",
    "\n",
    "  # Calculo la media de 3 f1score\n",
    "  f1score = 0.0\n",
    "\n",
    "  for i in range(1,4,1):\n",
    "    # Compilación y entrenamiento del modelo\n",
    "    model.compile(optimizer=tf.keras.optimizers.Adam(0.0001), loss='categorical_crossentropy', metrics=['accuracy'])\n",
    "    history = model.fit(train_generator, epochs=10, validation_data=test_generator)\n",
    "\n",
    "    # Obtenemos medidas\n",
    "    Y_pred = model.predict(test_generator)\n",
    "    y_pred = np.argmax(Y_pred, axis=1)\n",
    "    y_true = test_generator.classes\n",
    "    report = sk.classification_report(y_true, y_pred, output_dict=True)\n",
    "    f1score += report['weighted avg']['f1-score']/3\n",
    "\n",
    "  # Escribo en txt\n",
    "  out.write(str(f1score)+'\\n')\n",
    "\n",
    "  # Guardo y descargo en local el txt\n",
    "  out.close()\n",
    "  files.download('/content/V'+str(folder)+'InceptionV3.txt')"
   ]
  }
 ],
 "metadata": {
  "accelerator": "GPU",
  "colab": {
   "gpuType": "T4",
   "provenance": []
  },
  "kernelspec": {
   "display_name": "Python 3 (ipykernel)",
   "language": "python",
   "name": "python3"
  },
  "language_info": {
   "codemirror_mode": {
    "name": "ipython",
    "version": 3
   },
   "file_extension": ".py",
   "mimetype": "text/x-python",
   "name": "python",
   "nbconvert_exporter": "python",
   "pygments_lexer": "ipython3",
   "version": "3.10.6"
  }
 },
 "nbformat": 4,
 "nbformat_minor": 1
}
